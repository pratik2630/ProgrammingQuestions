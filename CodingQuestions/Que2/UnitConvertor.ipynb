{
 "cells": [
  {
   "cell_type": "code",
   "execution_count": 28,
   "metadata": {},
   "outputs": [],
   "source": [
    "#The distance between two cities (in km) is input through keyboard.\n",
    "#Write a program to convert and print \n",
    "#the distance in meters, feet, inches and centimetres."
   ]
  },
  {
   "cell_type": "code",
   "execution_count": 38,
   "metadata": {},
   "outputs": [
    {
     "name": "stdout",
     "output_type": "stream",
     "text": [
      "Enter distance between two cities (in km):4012740087\n"
     ]
    }
   ],
   "source": [
    "distance = float(input(\"Enter distance between two cities (in km):\"))"
   ]
  },
  {
   "cell_type": "code",
   "execution_count": 39,
   "metadata": {},
   "outputs": [
    {
     "name": "stdout",
     "output_type": "stream",
     "text": [
      "Distance in meter is  4012740087000.0\n",
      "distance converted from km to feet:  13165157765695.37\n",
      "Distance converted from km to inches : 157981893188344.44\n",
      "Distance in centimeters 401274008700000.0\n"
     ]
    }
   ],
   "source": [
    "print(\"Distance in meter is \" ,round((distance*1000),2),\"\")\n",
    "print(\"distance converted from km to feet: \",round((distance*3280.839895) , 2))\n",
    "print(\"Distance converted from km to inches :\" ,round((distance * 39370.07874) ,2))\n",
    "print(\"Distance in centimeters\",round((distance*100000),2))\n",
    "\n"
   ]
  },
  {
   "cell_type": "code",
   "execution_count": null,
   "metadata": {},
   "outputs": [],
   "source": []
  }
 ],
 "metadata": {
  "kernelspec": {
   "display_name": "Python 3",
   "language": "python",
   "name": "python3"
  },
  "language_info": {
   "codemirror_mode": {
    "name": "ipython",
    "version": 3
   },
   "file_extension": ".py",
   "mimetype": "text/x-python",
   "name": "python",
   "nbconvert_exporter": "python",
   "pygments_lexer": "ipython3",
   "version": "3.8.3"
  }
 },
 "nbformat": 4,
 "nbformat_minor": 4
}
