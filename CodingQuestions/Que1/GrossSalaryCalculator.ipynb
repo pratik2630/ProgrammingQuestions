{
 "cells": [
  {
   "cell_type": "code",
   "execution_count": 1,
   "metadata": {},
   "outputs": [
    {
     "name": "stdout",
     "output_type": "stream",
     "text": [
      "Enter your salary :10000\n"
     ]
    }
   ],
   "source": [
    "#Ramesh's basic salary is input through the keyboard. \n",
    "BSalary =int( input (\"Enter your salary :\"))"
   ]
  },
  {
   "cell_type": "code",
   "execution_count": 2,
   "metadata": {},
   "outputs": [
    {
     "name": "stdout",
     "output_type": "stream",
     "text": [
      "Gross Salary of Ramesh is  16000.0 INR\n"
     ]
    }
   ],
   "source": [
    "#His dearness allowance is 40% of basic salary\n",
    "DAllowance = BSalary * 40 / 100\n",
    "    \n",
    "#and house rent allowance is 20% of basic salary\n",
    "HouseRent = BSalary * 20 /100\n",
    "    \n",
    "#Write a program to calculate his gross salary.\n",
    "GSalary =  BSalary + DAllowance + HouseRent\n",
    "    \n",
    "print (\"Gross Salary of Ramesh is \", GSalary,\"INR\" )"
   ]
  },
  {
   "cell_type": "code",
   "execution_count": null,
   "metadata": {},
   "outputs": [],
   "source": []
  }
 ],
 "metadata": {
  "kernelspec": {
   "display_name": "Python 3",
   "language": "python",
   "name": "python3"
  },
  "language_info": {
   "codemirror_mode": {
    "name": "ipython",
    "version": 3
   },
   "file_extension": ".py",
   "mimetype": "text/x-python",
   "name": "python",
   "nbconvert_exporter": "python",
   "pygments_lexer": "ipython3",
   "version": "3.8.3"
  }
 },
 "nbformat": 4,
 "nbformat_minor": 4
}
