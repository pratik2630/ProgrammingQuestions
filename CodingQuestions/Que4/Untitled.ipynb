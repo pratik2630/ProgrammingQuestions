{
 "cells": [
  {
   "cell_type": "code",
   "execution_count": 1,
   "metadata": {},
   "outputs": [],
   "source": [
    "#Coding question 4:\n",
    "#Program to accept three numbers from user and print them in ascending and decending order\n",
    "#Happy Coding 😎"
   ]
  },
  {
   "cell_type": "code",
   "execution_count": 21,
   "metadata": {},
   "outputs": [
    {
     "name": "stdout",
     "output_type": "stream",
     "text": [
      "Enter total number to be inserted:4\n",
      "Enter number 1 :13\n",
      "Enter number 2 :53\n",
      "Enter number 3 :23\n",
      "Enter number 4 :64\n"
     ]
    }
   ],
   "source": [
    "a = [3 , 4 , 9 ]\n",
    "NumList = []\n",
    "value = int(input(\"Enter total number to be inserted:\"))\n",
    "for i in range(0 , value):\n",
    "    num =int(input(\"Enter number {} :\".format(i+1)))\n",
    "    NumList.append(num)"
   ]
  },
  {
   "cell_type": "code",
   "execution_count": 40,
   "metadata": {},
   "outputs": [],
   "source": [
    "def ascending(NumList):\n",
    "    for i in range (value):\n",
    "        for j in range(i + 1, value):\n",
    "            if(NumList[i] > NumList[j]):\n",
    "                temp = NumList[i]\n",
    "                NumList[i] = NumList[j]\n",
    "                NumList[j] = temp\n",
    "    print(\"Number in ascending order:\" , NumList)\n"
   ]
  },
  {
   "cell_type": "code",
   "execution_count": 42,
   "metadata": {},
   "outputs": [],
   "source": [
    "def descending(NumList):\n",
    "    for i in range (value):\n",
    "        for j in range(i + 1, value):\n",
    "            if(NumList[i] < NumList[j]):\n",
    "                temp = NumList[i]\n",
    "                NumList[i] = NumList[j]\n",
    "                NumList[j] = temp\n",
    "    print(\"Number in descending order:\" , NumList)"
   ]
  },
  {
   "cell_type": "code",
   "execution_count": 43,
   "metadata": {},
   "outputs": [
    {
     "name": "stdout",
     "output_type": "stream",
     "text": [
      "Number in ascending order: [13, 23, 53, 64]\n",
      "Number in descending order: [64, 53, 23, 13]\n"
     ]
    }
   ],
   "source": [
    "ascending(NumList)\n",
    "descending(NumList)"
   ]
  }
 ],
 "metadata": {
  "kernelspec": {
   "display_name": "Python 3",
   "language": "python",
   "name": "python3"
  }
 },
 "nbformat": 4,
 "nbformat_minor": 4
}
